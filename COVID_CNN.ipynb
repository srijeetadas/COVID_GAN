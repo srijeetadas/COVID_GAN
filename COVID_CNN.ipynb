{
  "nbformat": 4,
  "nbformat_minor": 0,
  "metadata": {
    "colab": {
      "name": "COVID_CNN.ipynb",
      "provenance": [],
      "authorship_tag": "ABX9TyPhfJ7e0KTxQhfKysbIkJ1h",
      "include_colab_link": true
    },
    "kernelspec": {
      "name": "python3",
      "display_name": "Python 3"
    },
    "language_info": {
      "name": "python"
    }
  },
  "cells": [
    {
      "cell_type": "markdown",
      "metadata": {
        "id": "view-in-github",
        "colab_type": "text"
      },
      "source": [
        "<a href=\"https://colab.research.google.com/github/srijeetadas/COVID_GAN/blob/main/COVID_CNN.ipynb\" target=\"_parent\"><img src=\"https://colab.research.google.com/assets/colab-badge.svg\" alt=\"Open In Colab\"/></a>"
      ]
    },
    {
      "cell_type": "code",
      "metadata": {
        "colab": {
          "base_uri": "https://localhost:8080/"
        },
        "id": "COL95jzah4Qy",
        "outputId": "6ff73218-329e-4dc9-8f61-a99ea36db6f9"
      },
      "source": [
        "from google.colab import drive\n",
        "drive.mount(\"/content/drive\")"
      ],
      "execution_count": null,
      "outputs": [
        {
          "output_type": "stream",
          "text": [
            "Mounted at /content/drive\n"
          ],
          "name": "stdout"
        }
      ]
    },
    {
      "cell_type": "code",
      "metadata": {
        "id": "euAjs_IEiDVN"
      },
      "source": [
        "TRAIN_PATH = \"/content/drive/MyDrive/CovidDataset/Train\"\n",
        "VAL_PATH = \"/content/drive/MyDrive/CovidDataset/Val\""
      ],
      "execution_count": null,
      "outputs": []
    },
    {
      "cell_type": "code",
      "metadata": {
        "id": "PKdO5OSLiZaz"
      },
      "source": [
        "import numpy as np\n",
        "import matplotlib.pyplot as plt\n",
        "import keras\n",
        "from keras.layers import *\n",
        "from keras.models import *\n",
        "from keras.preprocessing import image"
      ],
      "execution_count": null,
      "outputs": []
    },
    {
      "cell_type": "code",
      "metadata": {
        "id": "ae-2d_1pieEC"
      },
      "source": [
        "#CNN based model in keras\n",
        "model = Sequential()\n",
        "model.add(Conv2D(32,kernel_size=(3,3),activation='relu',input_shape=(224,224,3)))\n",
        "model.add(Conv2D(64,(3,3),activation='relu'))\n",
        "model.add(MaxPool2D(pool_size=(2,2)))\n",
        "model.add(Dropout(0.25))\n",
        "\n",
        "model.add(Conv2D(64,(3,3),activation='relu'))\n",
        "model.add(MaxPool2D(pool_size=(2,2)))\n",
        "model.add(Dropout(0.25))\n",
        "\n",
        "model.add(Conv2D(128,(3,3),activation='relu'))\n",
        "model.add(MaxPool2D(pool_size=(2,2)))\n",
        "model.add(Dropout(0.25))\n",
        "\n",
        "model.add(Flatten())\n",
        "model.add(Dense(64,activation='relu'))\n",
        "model.add(Dropout(0.5))\n",
        "model.add(Dense(1,activation='sigmoid'))\n",
        "\n",
        "model.compile(loss=keras.losses.binary_crossentropy,optimizer='adam',metrics=['accuracy'])"
      ],
      "execution_count": null,
      "outputs": []
    },
    {
      "cell_type": "code",
      "metadata": {
        "colab": {
          "base_uri": "https://localhost:8080/"
        },
        "id": "sbHMAA9EiiyQ",
        "outputId": "a516aa12-5e10-4560-ed05-013d7191c561"
      },
      "source": [
        "model.summary()"
      ],
      "execution_count": null,
      "outputs": [
        {
          "output_type": "stream",
          "text": [
            "Model: \"sequential\"\n",
            "_________________________________________________________________\n",
            "Layer (type)                 Output Shape              Param #   \n",
            "=================================================================\n",
            "conv2d (Conv2D)              (None, 222, 222, 32)      896       \n",
            "_________________________________________________________________\n",
            "conv2d_1 (Conv2D)            (None, 220, 220, 64)      18496     \n",
            "_________________________________________________________________\n",
            "max_pooling2d (MaxPooling2D) (None, 110, 110, 64)      0         \n",
            "_________________________________________________________________\n",
            "dropout (Dropout)            (None, 110, 110, 64)      0         \n",
            "_________________________________________________________________\n",
            "conv2d_2 (Conv2D)            (None, 108, 108, 64)      36928     \n",
            "_________________________________________________________________\n",
            "max_pooling2d_1 (MaxPooling2 (None, 54, 54, 64)        0         \n",
            "_________________________________________________________________\n",
            "dropout_1 (Dropout)          (None, 54, 54, 64)        0         \n",
            "_________________________________________________________________\n",
            "conv2d_3 (Conv2D)            (None, 52, 52, 128)       73856     \n",
            "_________________________________________________________________\n",
            "max_pooling2d_2 (MaxPooling2 (None, 26, 26, 128)       0         \n",
            "_________________________________________________________________\n",
            "dropout_2 (Dropout)          (None, 26, 26, 128)       0         \n",
            "_________________________________________________________________\n",
            "flatten (Flatten)            (None, 86528)             0         \n",
            "_________________________________________________________________\n",
            "dense (Dense)                (None, 64)                5537856   \n",
            "_________________________________________________________________\n",
            "dropout_3 (Dropout)          (None, 64)                0         \n",
            "_________________________________________________________________\n",
            "dense_1 (Dense)              (None, 1)                 65        \n",
            "=================================================================\n",
            "Total params: 5,668,097\n",
            "Trainable params: 5,668,097\n",
            "Non-trainable params: 0\n",
            "_________________________________________________________________\n"
          ],
          "name": "stdout"
        }
      ]
    },
    {
      "cell_type": "code",
      "metadata": {
        "id": "0hgcA56tind5"
      },
      "source": [
        "# Train from scratch\n",
        "train_datagen = image.ImageDataGenerator(\n",
        "    rescale = 1./255,\n",
        "    shear_range = 0.2,\n",
        "    zoom_range = 0.2,\n",
        "    horizontal_flip = True,\n",
        ")\n",
        "\n",
        "test_dataset = image.ImageDataGenerator(rescale=1./255)"
      ],
      "execution_count": null,
      "outputs": []
    },
    {
      "cell_type": "code",
      "metadata": {
        "colab": {
          "base_uri": "https://localhost:8080/"
        },
        "id": "dzPNlkz7irPa",
        "outputId": "dc22b121-a4cb-4299-a78c-98a21ae22b4c"
      },
      "source": [
        "train_generator = train_datagen.flow_from_directory(\n",
        "    '/content/drive/MyDrive/CovidDataset/Train',\n",
        "    target_size = (224,224),\n",
        "    batch_size = 32,\n",
        "    class_mode = 'binary'\n",
        ")"
      ],
      "execution_count": null,
      "outputs": [
        {
          "output_type": "stream",
          "text": [
            "Found 1226 images belonging to 2 classes.\n"
          ],
          "name": "stdout"
        }
      ]
    },
    {
      "cell_type": "code",
      "metadata": {
        "colab": {
          "base_uri": "https://localhost:8080/"
        },
        "id": "d5Zm4E0Bi4R8",
        "outputId": "3a77ae89-f187-44d3-e7b2-27c7be4e8884"
      },
      "source": [
        "val_generator = test_dataset.flow_from_directory(\n",
        "    '/content/drive/MyDrive/CovidDataset/Val',\n",
        "    target_size = (224,224),\n",
        "    batch_size = 32,\n",
        "    class_mode = 'binary',\n",
        "    shuffle = False\n",
        ")"
      ],
      "execution_count": null,
      "outputs": [
        {
          "output_type": "stream",
          "text": [
            "Found 1058 images belonging to 2 classes.\n"
          ],
          "name": "stdout"
        }
      ]
    },
    {
      "cell_type": "code",
      "metadata": {
        "colab": {
          "base_uri": "https://localhost:8080/"
        },
        "id": "RK_HRyfQjCjD",
        "outputId": "ec8a2410-1c49-42fa-c101-729089f5f7f0"
      },
      "source": [
        "train_generator.class_indices"
      ],
      "execution_count": null,
      "outputs": [
        {
          "output_type": "execute_result",
          "data": {
            "text/plain": [
              "{'Covid': 0, 'Normal': 1}"
            ]
          },
          "metadata": {
            "tags": []
          },
          "execution_count": 10
        }
      ]
    },
    {
      "cell_type": "code",
      "metadata": {
        "colab": {
          "base_uri": "https://localhost:8080/"
        },
        "id": "JsPFSU0WjJKu",
        "outputId": "703e88fc-e901-4b7a-bf40-623aefda65fb"
      },
      "source": [
        "hist = model.fit_generator(\n",
        "    train_generator,\n",
        "    steps_per_epoch=224/32,\n",
        "    epochs=50,\n",
        "    validation_data = val_generator,\n",
        "    validation_steps=60/32\n",
        ")"
      ],
      "execution_count": null,
      "outputs": [
        {
          "output_type": "stream",
          "text": [
            "/usr/local/lib/python3.7/dist-packages/keras/engine/training.py:1915: UserWarning: `Model.fit_generator` is deprecated and will be removed in a future version. Please use `Model.fit`, which supports generators.\n",
            "  warnings.warn('`Model.fit_generator` is deprecated and '\n"
          ],
          "name": "stderr"
        },
        {
          "output_type": "stream",
          "text": [
            "Epoch 1/50\n",
            "7/7 [==============================] - 5s 767ms/step - loss: 0.0917 - accuracy: 0.9598 - val_loss: 0.0826 - val_accuracy: 0.9688\n",
            "Epoch 2/50\n",
            "7/7 [==============================] - 4s 629ms/step - loss: 0.1094 - accuracy: 0.9554 - val_loss: 0.0830 - val_accuracy: 0.9688\n",
            "Epoch 3/50\n",
            "7/7 [==============================] - 4s 642ms/step - loss: 0.0864 - accuracy: 0.9643 - val_loss: 0.0742 - val_accuracy: 0.9688\n",
            "Epoch 4/50\n",
            "7/7 [==============================] - 4s 657ms/step - loss: 0.0834 - accuracy: 0.9643 - val_loss: 0.0419 - val_accuracy: 0.9844\n",
            "Epoch 5/50\n",
            "7/7 [==============================] - 4s 658ms/step - loss: 0.1327 - accuracy: 0.9554 - val_loss: 0.0924 - val_accuracy: 0.9688\n",
            "Epoch 6/50\n",
            "7/7 [==============================] - 4s 633ms/step - loss: 0.1083 - accuracy: 0.9688 - val_loss: 0.0767 - val_accuracy: 0.9844\n",
            "Epoch 7/50\n",
            "7/7 [==============================] - 5s 678ms/step - loss: 0.1671 - accuracy: 0.9420 - val_loss: 0.1089 - val_accuracy: 0.9688\n",
            "Epoch 8/50\n",
            "7/7 [==============================] - 5s 681ms/step - loss: 0.1292 - accuracy: 0.9509 - val_loss: 0.0958 - val_accuracy: 0.9844\n",
            "Epoch 9/50\n",
            "7/7 [==============================] - 4s 632ms/step - loss: 0.1298 - accuracy: 0.9505 - val_loss: 0.0669 - val_accuracy: 1.0000\n",
            "Epoch 10/50\n",
            "7/7 [==============================] - 5s 675ms/step - loss: 0.0819 - accuracy: 0.9598 - val_loss: 0.0425 - val_accuracy: 1.0000\n",
            "Epoch 11/50\n",
            "7/7 [==============================] - 5s 671ms/step - loss: 0.1684 - accuracy: 0.9554 - val_loss: 0.0872 - val_accuracy: 0.9688\n",
            "Epoch 12/50\n",
            "7/7 [==============================] - 5s 667ms/step - loss: 0.0975 - accuracy: 0.9688 - val_loss: 0.0714 - val_accuracy: 0.9844\n",
            "Epoch 13/50\n",
            "7/7 [==============================] - 4s 581ms/step - loss: 0.1237 - accuracy: 0.9554 - val_loss: 0.0771 - val_accuracy: 0.9844\n",
            "Epoch 14/50\n",
            "7/7 [==============================] - 5s 666ms/step - loss: 0.1267 - accuracy: 0.9509 - val_loss: 0.0997 - val_accuracy: 0.9688\n",
            "Epoch 15/50\n",
            "7/7 [==============================] - 5s 659ms/step - loss: 0.1367 - accuracy: 0.9464 - val_loss: 0.0929 - val_accuracy: 0.9844\n",
            "Epoch 16/50\n",
            "7/7 [==============================] - 5s 684ms/step - loss: 0.0713 - accuracy: 0.9777 - val_loss: 0.0492 - val_accuracy: 1.0000\n",
            "Epoch 17/50\n",
            "7/7 [==============================] - 4s 609ms/step - loss: 0.0904 - accuracy: 0.9604 - val_loss: 0.0212 - val_accuracy: 1.0000\n",
            "Epoch 18/50\n",
            "7/7 [==============================] - 5s 640ms/step - loss: 0.1843 - accuracy: 0.9554 - val_loss: 0.1574 - val_accuracy: 0.9375\n",
            "Epoch 19/50\n",
            "7/7 [==============================] - 4s 667ms/step - loss: 0.1068 - accuracy: 0.9554 - val_loss: 0.1133 - val_accuracy: 0.9688\n",
            "Epoch 20/50\n",
            "7/7 [==============================] - 5s 669ms/step - loss: 0.1010 - accuracy: 0.9554 - val_loss: 0.0906 - val_accuracy: 0.9688\n",
            "Epoch 21/50\n",
            "7/7 [==============================] - 5s 675ms/step - loss: 0.1109 - accuracy: 0.9643 - val_loss: 0.0604 - val_accuracy: 0.9844\n",
            "Epoch 22/50\n",
            "7/7 [==============================] - 4s 638ms/step - loss: 0.1068 - accuracy: 0.9598 - val_loss: 0.0535 - val_accuracy: 1.0000\n",
            "Epoch 23/50\n",
            "7/7 [==============================] - 4s 655ms/step - loss: 0.0927 - accuracy: 0.9688 - val_loss: 0.0530 - val_accuracy: 0.9844\n",
            "Epoch 24/50\n",
            "7/7 [==============================] - 4s 636ms/step - loss: 0.1135 - accuracy: 0.9554 - val_loss: 0.0702 - val_accuracy: 0.9844\n",
            "Epoch 25/50\n",
            "7/7 [==============================] - 4s 592ms/step - loss: 0.0987 - accuracy: 0.9703 - val_loss: 0.0881 - val_accuracy: 0.9844\n",
            "Epoch 26/50\n",
            "7/7 [==============================] - 4s 630ms/step - loss: 0.1208 - accuracy: 0.9703 - val_loss: 0.0733 - val_accuracy: 0.9844\n",
            "Epoch 27/50\n",
            "7/7 [==============================] - 5s 661ms/step - loss: 0.1400 - accuracy: 0.9554 - val_loss: 0.0849 - val_accuracy: 0.9844\n",
            "Epoch 28/50\n",
            "7/7 [==============================] - 4s 600ms/step - loss: 0.1095 - accuracy: 0.9653 - val_loss: 0.1126 - val_accuracy: 0.9688\n",
            "Epoch 29/50\n",
            "7/7 [==============================] - 5s 679ms/step - loss: 0.0732 - accuracy: 0.9866 - val_loss: 0.0631 - val_accuracy: 0.9844\n",
            "Epoch 30/50\n",
            "7/7 [==============================] - 4s 564ms/step - loss: 0.0873 - accuracy: 0.9752 - val_loss: 0.0587 - val_accuracy: 0.9844\n",
            "Epoch 31/50\n",
            "7/7 [==============================] - 5s 696ms/step - loss: 0.0756 - accuracy: 0.9777 - val_loss: 0.0825 - val_accuracy: 0.9844\n",
            "Epoch 32/50\n",
            "7/7 [==============================] - 5s 695ms/step - loss: 0.0420 - accuracy: 0.9911 - val_loss: 0.0448 - val_accuracy: 0.9844\n",
            "Epoch 33/50\n",
            "7/7 [==============================] - 5s 673ms/step - loss: 0.0630 - accuracy: 0.9821 - val_loss: 0.0360 - val_accuracy: 1.0000\n",
            "Epoch 34/50\n",
            "7/7 [==============================] - 4s 653ms/step - loss: 0.0691 - accuracy: 0.9732 - val_loss: 0.0520 - val_accuracy: 0.9844\n",
            "Epoch 35/50\n",
            "7/7 [==============================] - 5s 651ms/step - loss: 0.0794 - accuracy: 0.9732 - val_loss: 0.0632 - val_accuracy: 0.9844\n",
            "Epoch 36/50\n",
            "7/7 [==============================] - 4s 644ms/step - loss: 0.0361 - accuracy: 0.9911 - val_loss: 0.0780 - val_accuracy: 0.9844\n",
            "Epoch 37/50\n",
            "7/7 [==============================] - 5s 712ms/step - loss: 0.0600 - accuracy: 0.9688 - val_loss: 0.0484 - val_accuracy: 0.9844\n",
            "Epoch 38/50\n",
            "7/7 [==============================] - 5s 677ms/step - loss: 0.0630 - accuracy: 0.9777 - val_loss: 0.0543 - val_accuracy: 0.9844\n",
            "Epoch 39/50\n",
            "7/7 [==============================] - 5s 673ms/step - loss: 0.0980 - accuracy: 0.9688 - val_loss: 0.0253 - val_accuracy: 1.0000\n",
            "Epoch 40/50\n",
            "7/7 [==============================] - 4s 598ms/step - loss: 0.1392 - accuracy: 0.9307 - val_loss: 0.0421 - val_accuracy: 0.9844\n",
            "Epoch 41/50\n",
            "7/7 [==============================] - 4s 655ms/step - loss: 0.1386 - accuracy: 0.9688 - val_loss: 0.1203 - val_accuracy: 0.9531\n",
            "Epoch 42/50\n",
            "7/7 [==============================] - 4s 628ms/step - loss: 0.0730 - accuracy: 0.9777 - val_loss: 0.1075 - val_accuracy: 0.9688\n",
            "Epoch 43/50\n",
            "7/7 [==============================] - 5s 667ms/step - loss: 0.0765 - accuracy: 0.9688 - val_loss: 0.0551 - val_accuracy: 0.9844\n",
            "Epoch 44/50\n",
            "7/7 [==============================] - 4s 633ms/step - loss: 0.0472 - accuracy: 0.9866 - val_loss: 0.0469 - val_accuracy: 0.9844\n",
            "Epoch 45/50\n",
            "7/7 [==============================] - 5s 670ms/step - loss: 0.1748 - accuracy: 0.9598 - val_loss: 0.0700 - val_accuracy: 0.9844\n",
            "Epoch 46/50\n",
            "7/7 [==============================] - 5s 678ms/step - loss: 0.0432 - accuracy: 0.9821 - val_loss: 0.0806 - val_accuracy: 0.9844\n",
            "Epoch 47/50\n",
            "7/7 [==============================] - 4s 644ms/step - loss: 0.0812 - accuracy: 0.9732 - val_loss: 0.0680 - val_accuracy: 0.9844\n",
            "Epoch 48/50\n",
            "7/7 [==============================] - 5s 694ms/step - loss: 0.0932 - accuracy: 0.9643 - val_loss: 0.0715 - val_accuracy: 0.9844\n",
            "Epoch 49/50\n",
            "7/7 [==============================] - 4s 648ms/step - loss: 0.0824 - accuracy: 0.9653 - val_loss: 0.0622 - val_accuracy: 0.9844\n",
            "Epoch 50/50\n",
            "7/7 [==============================] - 5s 679ms/step - loss: 0.0952 - accuracy: 0.9598 - val_loss: 0.0352 - val_accuracy: 0.9844\n"
          ],
          "name": "stdout"
        }
      ]
    },
    {
      "cell_type": "code",
      "metadata": {
        "colab": {
          "base_uri": "https://localhost:8080/"
        },
        "id": "DJq8rDvJoIlQ",
        "outputId": "3e7bcb18-4d31-419c-97fb-21b8f6fced92"
      },
      "source": [
        "model.evaluate_generator(val_generator)"
      ],
      "execution_count": null,
      "outputs": [
        {
          "output_type": "stream",
          "text": [
            "/usr/local/lib/python3.7/dist-packages/keras/engine/training.py:1948: UserWarning: `Model.evaluate_generator` is deprecated and will be removed in a future version. Please use `Model.evaluate`, which supports generators.\n",
            "  warnings.warn('`Model.evaluate_generator` is deprecated and '\n"
          ],
          "name": "stderr"
        },
        {
          "output_type": "execute_result",
          "data": {
            "text/plain": [
              "[0.07763727754354477, 0.9688090682029724]"
            ]
          },
          "metadata": {
            "tags": []
          },
          "execution_count": 14
        }
      ]
    }
  ]
}